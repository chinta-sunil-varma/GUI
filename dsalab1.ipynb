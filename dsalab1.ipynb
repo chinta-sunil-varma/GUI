{
  "nbformat": 4,
  "nbformat_minor": 0,
  "metadata": {
    "colab": {
      "name": "Untitled1.ipynb",
      "provenance": []
    },
    "kernelspec": {
      "name": "python3",
      "display_name": "Python 3"
    },
    "language_info": {
      "name": "python"
    }
  },
  "cells": [
    {
      "cell_type": "code",
      "metadata": {
        "colab": {
          "base_uri": "https://localhost:8080/"
        },
        "id": "KAzksY7i4Sof",
        "outputId": "1a7328c0-5819-43cb-a39c-76c166f1f366"
      },
      "source": [
        "class Node:\n",
        "    def __init__(self, data, left=None, right=None):\n",
        "        self.data = data\n",
        "        self.left = left\n",
        "        self.right = right\n",
        "\n",
        "\n",
        "class Tree:\n",
        "    def __init__(self):\n",
        "        self.root = None\n",
        "\n",
        "\n",
        "\n",
        "    def insertion(self, cur_node, node):\n",
        "        if cur_node == None:\n",
        "            cur_node = node\n",
        "            return cur_node\n",
        "        elif node.data > cur_node.data:\n",
        "\n",
        "            if cur_node.right == None:\n",
        "                cur_node.right = node\n",
        "            else:\n",
        "                self.insertion(cur_node.right, node)\n",
        "        elif node.data < cur_node.data:\n",
        "            if cur_node.left == None:\n",
        "                cur_node.left = node\n",
        "            else:\n",
        "                self.insertion(cur_node.left, node)\n",
        "\n",
        "\n",
        "    def searching(self, root, val):\n",
        "        if root == None:\n",
        "            print(\"\\nelement not there\")\n",
        "            return\n",
        "        else:\n",
        "            if root.data == val:\n",
        "                print(\"\\nelement's there in the tree\")\n",
        "                return\n",
        "            elif root.data > val:\n",
        "                if root.left == val:\n",
        "                    print(\"\\nelement's there in the tree\")\n",
        "                    return\n",
        "                else:\n",
        "                    self.searching(root.left, val)\n",
        "            elif root.data < val:\n",
        "                if root.right == val:\n",
        "                    print(\"\\nelement's there in the tree\")\n",
        "                    return\n",
        "                else:\n",
        "                    self.searching(root.right, val)\n",
        "\n",
        "    def postorder(self,root):\n",
        "        if root == None:\n",
        "            return\n",
        "        self.postorder(root.left)\n",
        "        self.postorder(root.right)\n",
        "        print(root.data,end=\" \")\n",
        "\n",
        "tree1=Tree()\n",
        "a=int(input('enter the data of the root value'))\n",
        "node1=Node(a)\n",
        "r=tree1.insertion(tree1.root,node1)\n",
        "while 1:\n",
        "    b=int(input('enter 1 for insertion 2 post order and 3 for search'))\n",
        "    if b==1:\n",
        "        c=int(input('enter the data you want to insert'))\n",
        "        node2=Node(c)\n",
        "        tree1.insertion(r,node2)\n",
        "    if b==2:\n",
        "        tree1.postorder(r)\n",
        "    if b==3:\n",
        "        d=int(input(\"enter the element you want to search\"))\n",
        "        tree1.searching(r,d)\n",
        "\n"
      ],
      "execution_count": null,
      "outputs": [
        {
          "output_type": "stream",
          "text": [
            "enter the data of the root value5\n",
            "enter 1 for insertion 2 post order and 3 for search1\n",
            "enter the data you want to insert56\n",
            "enter 1 for insertion 2 post order and 3 for search1\n",
            "enter the data you want to insert78\n",
            "enter 1 for insertion 2 post order and 3 for search2\n",
            "78 56 5 enter 1 for insertion 2 post order and 3 for search3\n",
            "enter the element you want to search5\n",
            "\n",
            "element's there in the tree\n",
            "enter 1 for insertion 2 post order and 3 for search3\n",
            "enter the element you want to search123654\n",
            "\n",
            "element not there\n"
          ],
          "name": "stdout"
        }
      ]
    }
  ]
}